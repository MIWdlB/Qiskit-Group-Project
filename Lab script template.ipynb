{
 "cells": [
  {
   "cell_type": "markdown",
   "metadata": {},
   "source": [
    "# IBM Quantum Experience Lab - Lab script"
   ]
  },
  {
   "cell_type": "markdown",
   "metadata": {},
   "source": [
    "Please use this notebook as a template for the work that you will submit for assessment for this lab exercise.\n",
    "\n",
    "Student Names: "
   ]
  },
  {
   "cell_type": "markdown",
   "metadata": {},
   "source": [
    "## Warm up exercise"
   ]
  },
  {
   "cell_type": "code",
   "execution_count": 126,
   "metadata": {},
   "outputs": [
    {
     "name": "stdout",
     "output_type": "stream",
     "text": [
      "{'qiskit-terra': '0.16.1', 'qiskit-aer': '0.7.2', 'qiskit-ignis': '0.5.1', 'qiskit-ibmq-provider': '0.11.1', 'qiskit-aqua': '0.8.1', 'qiskit': '0.23.2'}\n"
     ]
    }
   ],
   "source": [
    "from qiskit import QuantumCircuit, ClassicalRegister, QuantumRegister\n",
    "from qiskit import execute, Aer\n",
    "from qiskit.tools.visualization import circuit_drawer\n",
    "from qiskit import IBMQ\n",
    "#This code outputs the version numbers for all  the installed sub-packages of QISKIT. \n",
    "# The overall QISKIT version number is displayed about halfway through the list. \n",
    "import matplotlib.pyplot as plt\n",
    "import numpy as np\n",
    "\n",
    "from qiskit import __qiskit_version__\n",
    "print(__qiskit_version__)"
   ]
  },
  {
   "cell_type": "markdown",
   "metadata": {},
   "source": [
    "### Setup the circuit"
   ]
  },
  {
   "cell_type": "code",
   "execution_count": 76,
   "metadata": {},
   "outputs": [
    {
     "data": {
      "text/html": [
       "<pre style=\"word-wrap: normal;white-space: pre;background: #fff0;line-height: 1.1;font-family: &quot;Courier New&quot;,Courier,monospace\">         ┌───┐┌─┐\n",
       "q3825_0: ┤ H ├┤M├\n",
       "         └───┘└╥┘\n",
       "   c3: 1/══════╩═\n",
       "               0 </pre>"
      ],
      "text/plain": [
       "         ┌───┐┌─┐\n",
       "q3825_0: ┤ H ├┤M├\n",
       "         └───┘└╥┘\n",
       "   c3: 1/══════╩═\n",
       "               0 "
      ]
     },
     "execution_count": 76,
     "metadata": {},
     "output_type": "execute_result"
    }
   ],
   "source": [
    "qr = QuantumRegister(1)\n",
    "cr = ClassicalRegister(1)\n",
    "circuit = QuantumCircuit(qr, cr)\n",
    "\n",
    "circuit.h(qr[0])\n",
    "circuit.measure(qr[0],cr[0])\n",
    "circuit_drawer(circuit)"
   ]
  },
  {
   "cell_type": "code",
   "execution_count": 65,
   "metadata": {},
   "outputs": [],
   "source": [
    "backend = Aer.get_backend('qasm_simulator')"
   ]
  },
  {
   "cell_type": "code",
   "execution_count": 11,
   "metadata": {},
   "outputs": [],
   "source": [
    "def calculate_exp_val(counts):\n",
    "    \"\"\"\n",
    "        Calculate the expectation value given a dictionary of counts\n",
    "    \"\"\"\n",
    "    exp_val = None\n",
    "    if '1' not in counts:\n",
    "        exp_val = 1\n",
    "    elif '0' not in counts:\n",
    "        exp_val = -1\n",
    "    else:\n",
    "        exp_val = (counts['0']-counts['1'])/(counts['0']+counts['1'])\n",
    "    return exp_val"
   ]
  },
  {
   "cell_type": "markdown",
   "metadata": {},
   "source": [
    "### Run the circuit\n",
    "For different values of shots repeated 10 times "
   ]
  },
  {
   "cell_type": "code",
   "execution_count": 68,
   "metadata": {},
   "outputs": [],
   "source": [
    "shots_list = [2**n for n in range(1, 20)]\n",
    "exp_list = []\n",
    "std_list = []\n",
    "\n",
    "num_repeat = 10\n",
    "for shots in shots_list:\n",
    "    cache = []\n",
    "    for i in range(num_repeat):\n",
    "        job = execute(circuit, backend,shots=shots)\n",
    "        result=job.result()\n",
    "        counts = result.get_counts(circuit)\n",
    "        cache.append(calculate_exp_val(counts))\n",
    "        \n",
    "    exp_list.append(cache[-1]) \n",
    "    # We do not want to average for the graph of expectation\n",
    "    \n",
    "    std_list.append(np.std(cache))"
   ]
  },
  {
   "cell_type": "markdown",
   "metadata": {},
   "source": [
    "### Plot the results\n",
    "#### Expectations versus shots"
   ]
  },
  {
   "cell_type": "code",
   "execution_count": 69,
   "metadata": {},
   "outputs": [
    {
     "data": {
      "text/plain": [
       "Text(0, 0.5, 'expectation')"
      ]
     },
     "execution_count": 69,
     "metadata": {},
     "output_type": "execute_result"
    },
    {
     "data": {
      "image/png": "[encoded data removed]",
      "text/plain": [
       "<Figure size 432x288 with 1 Axes>"
      ]
     },
     "metadata": {
      "needs_background": "light"
     },
     "output_type": "display_data"
    }
   ],
   "source": [
    "plt.plot(shots_list, exp_list)\n",
    "plt.xlabel(\"shots\")\n",
    "plt.ylabel(\"expectation\")"
   ]
  },
  {
   "cell_type": "markdown",
   "metadata": {},
   "source": [
    "#### Errors versus shots"
   ]
  },
  {
   "cell_type": "code",
   "execution_count": 73,
   "metadata": {},
   "outputs": [
    {
     "data": {
      "text/plain": [
       "Text(0, 0.5, 'error')"
      ]
     },
     "execution_count": 73,
     "metadata": {},
     "output_type": "execute_result"
    },
    {
     "data": {
      "image/png": "[encoded data removed]",
      "text/plain": [
       "<Figure size 432x288 with 1 Axes>"
      ]
     },
     "metadata": {
      "needs_background": "light"
     },
     "output_type": "display_data"
    }
   ],
   "source": [
    "plt.plot(shots_list, std_list)\n",
    "plt.xlabel(\"shots\")\n",
    "plt.ylabel(\"error\") "
   ]
  },
  {
   "cell_type": "markdown",
   "metadata": {},
   "source": [
    "#### Zoomed version of errors versus shots"
   ]
  },
  {
   "cell_type": "code",
   "execution_count": 80,
   "metadata": {},
   "outputs": [
    {
     "data": {
      "text/plain": [
       "Text(0, 0.5, 'error')"
      ]
     },
     "execution_count": 80,
     "metadata": {},
     "output_type": "execute_result"
    },
    {
     "data": {
      "image/png": "[encoded data removed]",
      "text/plain": [
       "<Figure size 432x288 with 1 Axes>"
      ]
     },
     "metadata": {
      "needs_background": "light"
     },
     "output_type": "display_data"
    }
   ],
   "source": [
    "plt.plot(shots_list[:-7], std_list[:-7])\n",
    "plt.xlabel(\"shots\")\n",
    "plt.ylabel(\"error\") "
   ]
  },
  {
   "cell_type": "markdown",
   "metadata": {},
   "source": [
    "## Main exercises"
   ]
  },
  {
   "cell_type": "markdown",
   "metadata": {},
   "source": [
    "## Set up circuits"
   ]
  },
  {
   "cell_type": "markdown",
   "metadata": {},
   "source": [
    "## Method 1 (unitary basis rotation method)\n",
    "Given that $$M(\\theta) = u_1(\\theta) X u_1(-\\theta)$$ and $H Z H = X$, so \n",
    "$$ M(\\theta) = u_1(\\theta) H Z H u_1(-\\theta) $$.\n",
    "So the change of basis required is $H u_1(-\\theta)$."
   ]
  },
  {
   "cell_type": "code",
   "execution_count": 81,
   "metadata": {},
   "outputs": [],
   "source": [
    "def circuit_method_1(theta, phi):\n",
    "    circuit = QuantumCircuit(1, 1)\n",
    "\n",
    "    # State preparation \n",
    "    circuit.h(0)\n",
    "    circuit.u1(-2*phi, 0)\n",
    "    circuit.h(0)\n",
    "\n",
    "    # Change of basis\n",
    "    circuit.u1(-theta, 0)\n",
    "    circuit.h(0)\n",
    "    \n",
    "    circuit.measure(0, 0)\n",
    "    \n",
    "    return circuit"
   ]
  },
  {
   "cell_type": "markdown",
   "metadata": {},
   "source": [
    "## Method 2 (standard VQE method)\n",
    "It is given that $$ M(\\theta) = \\cos (\\theta) X + \\sin (\\theta) Y $$. \n",
    "In general we have $$M = \\alpha X + \\beta Y + \\gamma Z + \\delta I$$, therefore $$ \\alpha = \\cos(\\theta)$$, $$ \\beta = \\sin(\\theta)$$ and $\\gamma = \\delta = 0$.\n",
    "\n",
    "$$ \\langle M \\rangle = \\alpha \\langle X \\rangle + \\beta \\langle Y \\rangle + \\gamma \\langle Z \\rangle + \\delta \\langle I \\rangle $$ \n"
   ]
  },
  {
   "cell_type": "code",
   "execution_count": 82,
   "metadata": {},
   "outputs": [],
   "source": [
    "def circuit_method_2(theta, phi):\n",
    "    \"\"\"\n",
    "    Since only alpha and beta are non-zero,\n",
    "    only X and Y expectation values are required.\n",
    "    \"\"\"\n",
    "    \n",
    "    circuit_X = QuantumCircuit(1, 1)\n",
    "    circuit_X.h(0)\n",
    "    circuit_X.u1(-2*phi, 0)\n",
    "    circuit_X.h(0)\n",
    "\n",
    "    circuit_X.h(0)\n",
    "    circuit_X.measure(0, 0)\n",
    "    \n",
    "    circuit_Y = QuantumCircuit(1, 1)\n",
    "    circuit_Y.h(0)\n",
    "    circuit_Y.u1(-2*phi, 0)\n",
    "    circuit_Y.h(0)\n",
    "\n",
    "    circuit_Y.sdg(0)\n",
    "    circuit_Y.h(0)\n",
    "    circuit_Y.measure(0, 0)\n",
    "    \n",
    "    return circuit_X, circuit_Y\n"
   ]
  },
  {
   "cell_type": "markdown",
   "metadata": {},
   "source": [
    "## Calculate exact value of the expectation value "
   ]
  },
  {
   "cell_type": "code",
   "execution_count": 89,
   "metadata": {},
   "outputs": [],
   "source": [
    "def true_exp_val(theta, phi):\n",
    "    M = np.array([[0, np.exp(-1j * theta)],[np.exp(1j* theta), 0]])\n",
    "    psi = np.array([np.cos(phi), 1j * np.sin(phi)])\n",
    "    return np.real(psi.T.conj() @ M @ psi)"
   ]
  },
  {
   "cell_type": "markdown",
   "metadata": {},
   "source": [
    "Specify values for parameters "
   ]
  },
  {
   "cell_type": "code",
   "execution_count": 103,
   "metadata": {},
   "outputs": [],
   "source": [
    "pair_1 = (np.pi/4, 0)\n",
    "pair_2 = (np.pi/8, np.pi/4)\n",
    "true_val_pair_1 = true_exp_val(*pair_1)\n",
    "true_val_pair_2 = true_exp_val(*pair_2)\n",
    "shots = 2**12"
   ]
  },
  {
   "cell_type": "markdown",
   "metadata": {},
   "source": [
    "Specify backend"
   ]
  },
  {
   "cell_type": "code",
   "execution_count": 127,
   "metadata": {},
   "outputs": [
    {
     "name": "stderr",
     "output_type": "stream",
     "text": [
      "/home/kin/miniconda3/lib/python3.7/site-packages/qiskit/providers/ibmq/ibmqfactory.py:192: UserWarning: Timestamps in IBMQ backend properties, jobs, and job results are all now in local time instead of UTC.\n",
      "  warnings.warn('Timestamps in IBMQ backend properties, jobs, and job results '\n"
     ]
    },
    {
     "name": "stdout",
     "output_type": "stream",
     "text": [
      "ibmq_armonk\n"
     ]
    }
   ],
   "source": [
    "from qiskit.providers.ibmq import least_busy\n",
    "IBMQ.load_account()\n",
    "IBMQ.providers()\n",
    "provider = IBMQ.get_provider(hub='ibm-q')\n",
    "provider.backends()\n",
    "\n",
    "small_devices = provider.backends(filters=lambda x: x.configuration().n_qubits == 1\n",
    "                                   and not x.configuration().simulator)\n",
    "backend=least_busy(small_devices)\n",
    "\n",
    "print(backend)"
   ]
  },
  {
   "cell_type": "markdown",
   "metadata": {},
   "source": [
    "### Method 1, Pair 1"
   ]
  },
  {
   "cell_type": "code",
   "execution_count": 128,
   "metadata": {},
   "outputs": [],
   "source": [
    "circuit = circuit_method_1(*pair_1)\n",
    "job = execute(circuit, backend,shots=shots)\n",
    "result=job.result()\n",
    "counts = result.get_counts(circuit)\n",
    "\n",
    "exp_val_pair_1_method_1 = calculate_exp_val(counts)\n",
    "err_pair_1_method_1 = abs(exp_val_pair_1_method_1 - true_val_pair_1)"
   ]
  },
  {
   "cell_type": "markdown",
   "metadata": {},
   "source": [
    "### Method 2, Pair 1"
   ]
  },
  {
   "cell_type": "code",
   "execution_count": 129,
   "metadata": {},
   "outputs": [],
   "source": [
    "circuit_X, circuit_Y = circuit_method_2(*pair_1)\n",
    "\n",
    "# Calculate expectation value of Pauli X\n",
    "job_X = execute(circuit_X, backend,shots=shots/2)\n",
    "result_X = job_X.result()\n",
    "counts_X = result_X.get_counts(circuit_X)\n",
    "exp_val_X = calculate_exp_val(counts_X)\n",
    "\n",
    "# Calculate expectation value of Pauli Y\n",
    "job_Y = execute(circuit_Y, backend,shots=shots/2)\n",
    "result_Y = job_Y.result()\n",
    "counts_Y = result_Y.get_counts(circuit_Y)\n",
    "exp_val_Y = calculate_exp_val(counts_Y)\n",
    "\n",
    "exp_val_pair_1_method_2 = np.cos(theta) * exp_val_X + np.sin(theta) * exp_val_Y\n",
    "err_pair_1_method_2 = abs(exp_val_pair_1_method_2 - true_val_pair_1)"
   ]
  },
  {
   "cell_type": "markdown",
   "metadata": {},
   "source": [
    "### Method 1, Pair 2"
   ]
  },
  {
   "cell_type": "code",
   "execution_count": 130,
   "metadata": {},
   "outputs": [],
   "source": [
    "circuit = circuit_method_1(*pair_2)\n",
    "job = execute(circuit, backend,shots=shots)\n",
    "result=job.result()\n",
    "counts = result.get_counts(circuit)\n",
    "exp_val_pair_2_method_1 = calculate_exp_val(counts)\n",
    "err_pair_2_method_1 = abs(exp_val_pair_2_method_1 - true_val_pair_2)"
   ]
  },
  {
   "cell_type": "markdown",
   "metadata": {},
   "source": [
    "### Method 2, Pair 2"
   ]
  },
  {
   "cell_type": "code",
   "execution_count": 131,
   "metadata": {},
   "outputs": [],
   "source": [
    "circuit_X, circuit_Y = circuit_method_2(*pair_2)\n",
    "\n",
    "# Calculate expectation value of Pauli X\n",
    "job_X = execute(circuit_X, backend,shots=shots/2)\n",
    "result_X = job_X.result()\n",
    "counts_X = result_X.get_counts(circuit_X)\n",
    "exp_val_X = calculate_exp_val(counts_X)\n",
    "\n",
    "# Calculate expectation value of Pauli Y\n",
    "job_Y = execute(circuit_Y, backend,shots=shots/2)\n",
    "result_Y = job_Y.result()\n",
    "counts_Y = result_Y.get_counts(circuit_Y)\n",
    "exp_val_Y = calculate_exp_val(counts_Y)\n",
    "\n",
    "exp_val_pair_2_method_2 = np.cos(theta) * exp_val_X + np.sin(theta) * exp_val_Y\n",
    "err_pair_2_method_2 = abs(exp_val_pair_2_method_2 - true_val_pair_2)"
   ]
  },
  {
   "cell_type": "markdown",
   "metadata": {},
   "source": [
    "## Plot errors as bar chart"
   ]
  },
  {
   "cell_type": "code",
   "execution_count": 132,
   "metadata": {},
   "outputs": [
    {
     "data": {
      "text/plain": [
       "Text(0, 0.5, 'error in expectation')"
      ]
     },
     "execution_count": 132,
     "metadata": {},
     "output_type": "execute_result"
    },
    {
     "data": {
      "image/png": "[encoded data removed]",
      "text/plain": [
       "<Figure size 432x288 with 1 Axes>"
      ]
     },
     "metadata": {
      "needs_background": "light"
     },
     "output_type": "display_data"
    }
   ],
   "source": [
    "ind = np.array([0, 1])\n",
    "width = 0.35\n",
    "plt.bar(ind, [err_pair_1_method_1, err_pair_2_method_1], width, label='method 1')\n",
    "plt.bar(ind+width, [err_pair_1_method_2, err_pair_2_method_2], width, label='method 2')\n",
    "plt.legend()\n",
    "\n",
    "plt.title('Error expectation value calculation methods')\n",
    "plt.xticks(ind + width / 2, (r'$(\\theta = \\pi/4, \\phi = 0)$', r'$(\\theta = \\pi/8, \\phi = \\pi/4)$'))\n",
    "plt.ylabel('error in expectation')"
   ]
  },
  {
   "cell_type": "code",
   "execution_count": null,
   "metadata": {},
   "outputs": [],
   "source": []
  }
 ],
 "metadata": {
  "kernelspec": {
   "display_name": "Python 3",
   "language": "python",
   "name": "python3"
  },
  "language_info": {
   "codemirror_mode": {
    "name": "ipython",
    "version": 3
   },
   "file_extension": ".py",
   "mimetype": "text/x-python",
   "name": "python",
   "nbconvert_exporter": "python",
   "pygments_lexer": "ipython3",
   "version": "3.7.3"
  }
 },
 "nbformat": 4,
 "nbformat_minor": 2
}
