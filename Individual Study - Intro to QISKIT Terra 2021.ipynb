{
 "cells": [
  {
   "cell_type": "markdown",
   "metadata": {},
   "source": [
    "# IBM Quantum Experience Lab"
   ]
  },
  {
   "cell_type": "markdown",
   "metadata": {},
   "source": [
    "Dan Browne (first written November 2018 - updated April 2021)"
   ]
  },
  {
   "cell_type": "markdown",
   "metadata": {},
   "source": [
    "For this lab exercise you will learn how to use IBM's QISKIT Python environment to perform quantum computations on IBM's prototype chips, via the IBM Quantum Experience cloud interface."
   ]
  },
  {
   "cell_type": "markdown",
   "metadata": {},
   "source": [
    "These notes provide a self-contained introduction to QISKIT, but you can also find the official QISKIT tutorial documentaion at the following links:\n",
    "\n",
    "https://qiskit.org/learn/\n",
    "\n",
    "https://qiskit.org/documentation/index.html\n",
    "\n",
    "The introductory part of these notes were inspired by some of IBM's tutorials.\n",
    "\n",
    "There is an important point we need to make. QISKIT is **beta** software, under **rapid development**. These notes were written for **QISKIT version 0.19.1** and has been updated for version **0.25.3**.\n",
    "\n",
    "In particular, many of the QISKIT tutorials you will find online are *incompatible* with the current versions, as the commands and API have evolved quite quickly."
   ]
  },
  {
   "cell_type": "markdown",
   "metadata": {},
   "source": [
    "## IBM Graphical Interface - \"Quantum Composer\"\n",
    "\n",
    "Before learning QISKIT, I recommend you explore the graphical interface that IBM have created. This is primarily for educational purposes, but has much of the same functionality (in drag and drop web-app form) as the QISKIT python package.\n",
    "\n",
    "In particular, you need to set up an account on the graphical interface before you will be granted an API key to access the chips from QISKIT.\n",
    "\n",
    "I recommend that you work through the tutorial notes on the Quantum Composer available on this course Moodle page. The notes were written at a level accessible to undergraduate students, and also introduce some of the basic concepts of quantum circuits."
   ]
  },
  {
   "cell_type": "markdown",
   "metadata": {},
   "source": [
    "## Getting started with QISKIT Terra\n",
    "\n",
    "QISKIT is the name for IBM's Python environment for quantum computing. It can be used to create quantum circuits, and run them on simulators or even on IBM's chips themselves.\n",
    "\n",
    "Recently, IBM have subdivided QISKIT into different products, each with a Latin element as a name. The basic Python package that we will use in this lab, is now called **QISKIT Terra**.\n",
    "\n",
    "\n",
    "To get started, let's importing some packages from QISKIT that we wiill use below. This is a good way to check if QISKIT is intalled on your machine:"
   ]
  },
  {
   "cell_type": "code",
   "execution_count": null,
   "metadata": {},
   "outputs": [],
   "source": [
    "from qiskit import QuantumCircuit, ClassicalRegister, QuantumRegister\n",
    "from qiskit import execute, Aer"
   ]
  },
  {
   "cell_type": "markdown",
   "metadata": {},
   "source": [
    "If you get error messages, it is likely that the correct version of QISKIT is not installed on your machine."
   ]
  },
  {
   "cell_type": "code",
   "execution_count": null,
   "metadata": {},
   "outputs": [],
   "source": [
    "#This code outputs the version numbers for all  the installed sub-packages of QISKIT. \n",
    "# The overall QISKIT version number is displayed about halfway through the list. \n",
    "\n",
    "from qiskit import __qiskit_version__\n",
    "print(__qiskit_version__)\n"
   ]
  },
  {
   "cell_type": "markdown",
   "metadata": {},
   "source": [
    "If you need to install QISKIT, you can do so easily via ``pip`` using:\n",
    "\n",
    "```pip install qiskit```"
   ]
  },
  {
   "cell_type": "markdown",
   "metadata": {},
   "source": [
    "# Registers and Circuits\n",
    "\n",
    "The main purpose of QISKIT is to create descriptions of quantum circuits, run the circuit on a prototype quantum computers, (or a classical simulators of a prototype quantum computer), and then receive and process the outcomes of the computation.\n",
    "\n",
    "QISKIT uses Python objects to represent the key components of a quantum computation:\n",
    "* A \"register\" of an integer number of **qubits**, representing the prototype quantum computer.\n",
    "* A \"register\" of an integer number of **classical bits**, which will store the outcomes of measurements of those qubits\n",
    "* the **quantum circuit** that you wish to run on those qubits, and which will return the classical data in the classical register.\n",
    "\n",
    "We create those objects as follows:"
   ]
  },
  {
   "cell_type": "code",
   "execution_count": null,
   "metadata": {},
   "outputs": [],
   "source": [
    "# Create a Quantum Register with 5 qubits\n",
    "qr = QuantumRegister(3)\n",
    "\n",
    "# Create a Classical Register with 5 bits\n",
    "cr = ClassicalRegister(3)\n",
    "\n",
    "# Create a Quantum Circuit acting on the qr and cr register\n",
    "circuit = QuantumCircuit(qr, cr)"
   ]
  },
  {
   "cell_type": "markdown",
   "metadata": {},
   "source": [
    "Initially our circuit has no quantum gates or measurements in it. \n",
    "\n",
    "**Important**: By convention, every qubit in a computation is always initialised in the $|0\\rangle$ state.\n",
    "\n",
    "**Important**: The qubits and classical bits in the circuit are labelled with integers starting from **zero** (following the convention in Python of counting from zero).\n",
    "\n",
    "We can create a circuit using Python commands which add logic gates and measurements to the circuit. Here are some examples from IBM's introductory tutorial:"
   ]
  },
  {
   "cell_type": "code",
   "execution_count": null,
   "metadata": {},
   "outputs": [],
   "source": [
    "# Pauli X gate (NOT gate) on qubit 0\n",
    "circuit.x(qr[0])\n",
    "\n",
    "# Pauli X gate (NOT gate) qubit 1\n",
    "circuit.x(qr[1])\n",
    "\n",
    "# Toffoli gate from qubit 0,1 to qubit 2\n",
    "circuit.ccx(qr[0], qr[1], qr[2])\n",
    "\n",
    "# CNOT (Controlled-NOT) gate from qubit 0 to qubit 1\n",
    "circuit.cx(qr[0], qr[1])\n",
    "\n",
    "# measure gate from qr to cr\n",
    "circuit.measure(qr, cr)"
   ]
  },
  {
   "cell_type": "markdown",
   "metadata": {},
   "source": [
    "Each of the above commands has added an instruction (either a gate or a measurement) to the circuit object. \n",
    "\n",
    "A nice way to see the circuit that has been built is to use the 'circuit_drawer' visualisation. "
   ]
  },
  {
   "cell_type": "code",
   "execution_count": null,
   "metadata": {},
   "outputs": [],
   "source": [
    "from qiskit.tools.visualization import circuit_drawer\n",
    "\n",
    "circuit_drawer(circuit)"
   ]
  },
  {
   "cell_type": "markdown",
   "metadata": {},
   "source": [
    "This visualisation has 6 lines in it, the 3 top 3 lines represent qubits, while the bottom three double lines represent classical bits. This visualisation will help us to unpack the commands we used to make the circuit.\n",
    "\n",
    "*Optional* - you can enable fancier graphics for the circuit, using the option `output=\"mpl\"`. This uses `matplotlib` to render a colourful version of the circuit.\n",
    "\n",
    "A further possibility is to use  the option `output=\"latex\"`.\n",
    "This will only work if `pylatexenc` is installed on your machine. Install it with the command `pip install pylatexenc`."
   ]
  },
  {
   "cell_type": "code",
   "execution_count": null,
   "metadata": {},
   "outputs": [],
   "source": [
    "circuit_drawer(circuit,output=\"mpl\")"
   ]
  },
  {
   "cell_type": "code",
   "execution_count": null,
   "metadata": {},
   "outputs": [],
   "source": [
    "circuit_drawer(circuit,output=\"latex\")"
   ]
  },
  {
   "cell_type": "markdown",
   "metadata": {},
   "source": [
    "### Quantum and Classical Registers\n",
    "\n",
    "First let's look the **quantum register object** and how the qubits within it are labelled."
   ]
  },
  {
   "cell_type": "code",
   "execution_count": null,
   "metadata": {},
   "outputs": [],
   "source": [
    "print(qr)"
   ]
  },
  {
   "cell_type": "markdown",
   "metadata": {},
   "source": [
    "This output tells us that the `qr` object is a register of 3 qubits. The second argument is the name that QISKIT has given the register. By default this is `q0`."
   ]
  },
  {
   "cell_type": "markdown",
   "metadata": {},
   "source": [
    "The qubits are labelled like elements of a Python list, E.g. `qr[0]`, `qr[1]` etc."
   ]
  },
  {
   "cell_type": "markdown",
   "metadata": {},
   "source": [
    "There is a similar syntax for the classical register object `cr`. Here, the default name is `c0`. The bits are labelled `cr[0]`, `cr[1]` etc."
   ]
  },
  {
   "cell_type": "code",
   "execution_count": null,
   "metadata": {},
   "outputs": [],
   "source": [
    "print(cr)"
   ]
  },
  {
   "cell_type": "markdown",
   "metadata": {},
   "source": [
    "### Adding logic gates to the circuit.\n",
    "\n",
    "We can now unpack the command `circuit.x(qr[0])`. \n",
    "\n",
    "This has the syntax of a Python method - the function `x` belongs to the `circuit` object, so we access it by writing `circuit.x`. This function adds a Pauli X gate to our circuit, and takes as its argument the label of the qubit (in this case `qr[0]`) on which the gate acts.\n",
    "\n",
    "Other quantum gates can be added to circuits in QISKIT using similar syntax. \n",
    "\n",
    "**Exercise**: In the above examples, identify the command that adds the CCX or Toffolli gate (https://en.wikipedia.org/wiki/Toffoli_gate) and the CNOT gate (https://en.wikipedia.org/wiki/Controlled_NOT_gate).\n",
    "\n",
    "When we apply these gate we need to specify the control qubit(s) and target qubit. Which argument refers to the control qubit(s) and which to the target qubit in the QISKIT syntax?"
   ]
  },
  {
   "cell_type": "markdown",
   "metadata": {},
   "source": [
    "### Measuring qubits\n",
    "\n",
    "Have another look at the visualisation of the circuit. The \"boxes with dials\" represent quantum measurements. In particular, each box represents a computational basis measurement, projecting onto $|0\\rangle$ with outcome \"0\" or $|1\\rangle$ with outcome '1'.\n",
    "\n",
    "We note that all 3 qubits are measured, and vertical lines linking the qubits to a classical bit that will store the outcome of the measurement.\n",
    "\n",
    "This was acheived with a single command:\n",
    "\n",
    "`circuit.measure(qr, cr)`\n",
    "\n",
    "This command measures all qubits in register `qr` and stores the outcomes in classical register `cr`.\n",
    "\n",
    "You can use the same command to measure individual qubits (or any subset of the register specified as a Python tuple), e.g.:\n",
    "\n",
    "`circuit.measure((qr[0],qr[1]),(cr[0],cr[1]))`\n",
    "\n"
   ]
  },
  {
   "cell_type": "markdown",
   "metadata": {},
   "source": [
    "## Hardware primitive gates\n",
    "\n",
    "IBM's chip implements logic gates via microwave driving of the structures in the chip. This means that only a limited set of gates can be implemented natively. These include CNOT gates (between certain pairs of qubits with a fixed control and target) and single qubit native gates.\n",
    "\n",
    "IBM calls the native single qubit gates $u_1$, $u_2$, and $u_3$:\n",
    "\n",
    "https://qiskit.org/textbook/ch-states/single-qubit-gates.html#generalU3\n",
    "\n",
    "We will only consider $u_1$ here. This gate is a simple phase gate, and takes one parameter:\n",
    "\n",
    "$$ u_1(\\lambda)=\\begin{bmatrix}1 & 0\\\\0 & \\exp(i \\lambda)\\end{bmatrix}$$\n",
    "\n",
    "The full list of all logic gates supported in QISKIT is here: (This is actually the source code that defines the gates inside QISKIT):\n",
    "\n",
    "https://github.com/Qiskit/qiskit-terra/blob/master/qiskit/qasm/libs/qelib1.inc\n"
   ]
  },
  {
   "cell_type": "markdown",
   "metadata": {},
   "source": [
    "## \"Running\" a quantum circuit - the IBMQ Backends\n",
    "\n",
    "Now that we have seen how to define a quantum circuit, we will see how to implement it using QISKIT. There are two different ways to \"run\" the circuit; on a classical computer simulating a perfect quantum computer, or on a quantum device itself. QISKIT calls these devices \"backends\". QISKIT allows us to send our circuit to the backend (as a QASM file - see my IBM Quantum Experience notes for an intro to QASM) and receive the results of the measurements (or simulated measurements).\n",
    "\n",
    "Let us create a new circuit, whose output we know, to test it:\n",
    "\n",
    " "
   ]
  },
  {
   "cell_type": "code",
   "execution_count": null,
   "metadata": {},
   "outputs": [],
   "source": [
    "# Create a Quantum Register with 5 qubits\n",
    "qr_new = QuantumRegister(1)\n",
    "\n",
    "# Create a Classical Register with 5 bits\n",
    "cr_new= ClassicalRegister(1)\n",
    "\n",
    "# Create a Quantum Circuit acting on the qr and cr register\n",
    "circuit_new = QuantumCircuit(qr_new, cr_new)\n",
    "\n",
    "circuit_new.h(qr_new[0])\n",
    "circuit_new.measure(qr_new,cr_new)\n",
    "\n",
    "\n",
    "\n"
   ]
  },
  {
   "cell_type": "code",
   "execution_count": null,
   "metadata": {},
   "outputs": [],
   "source": [
    "circuit_drawer(circuit_new)"
   ]
  },
  {
   "cell_type": "markdown",
   "metadata": {},
   "source": [
    "This circuit creates the superposition state $(|0\\rangle+|1\\rangle)/\\sqrt{2}$, and when we measure it, we will find the output '0' with probablility 1/2 and '1' with probability half."
   ]
  },
  {
   "cell_type": "markdown",
   "metadata": {},
   "source": [
    "## The classical simulator \"Aer\"\n",
    "\n",
    "IBM calls its classical quantum computer simulator Aer. To see the reason for the name: https://medium.com/qiskit/qiskit-and-its-fundamental-elements-bcd7ead80492\n",
    "\n",
    "We will use it to simulate our test circuit. First we need to install a module and initialise the simulator backend:\n"
   ]
  },
  {
   "cell_type": "code",
   "execution_count": null,
   "metadata": {},
   "outputs": [],
   "source": [
    "from qiskit import Aer\n",
    "backend = Aer.get_backend('qasm_simulator')"
   ]
  },
  {
   "cell_type": "markdown",
   "metadata": {},
   "source": [
    "Let us create a job to send our circuit to this backend:"
   ]
  },
  {
   "cell_type": "code",
   "execution_count": null,
   "metadata": {},
   "outputs": [],
   "source": [
    "# Create a Quantum Program for execution \n",
    "job = execute(circuit_new, backend)"
   ]
  },
  {
   "cell_type": "markdown",
   "metadata": {},
   "source": [
    "We can check the status of our job."
   ]
  },
  {
   "cell_type": "code",
   "execution_count": null,
   "metadata": {},
   "outputs": [],
   "source": [
    "job.status()"
   ]
  },
  {
   "cell_type": "markdown",
   "metadata": {},
   "source": [
    "Now that it has run, let's take a look at the results.\n",
    "\n",
    "This is not the most elegant aspect of QISKIT. First, we must create a result object, then we run the `.get_counts` method (**Important**: note that the `.get_counts` method takes the name of the circuit as its argument)"
   ]
  },
  {
   "cell_type": "code",
   "execution_count": null,
   "metadata": {},
   "outputs": [],
   "source": [
    "result = job.result()\n",
    "result.get_counts(circuit_new)"
   ]
  },
  {
   "cell_type": "markdown",
   "metadata": {},
   "source": [
    "We see that our simulator has simulated the circuit 1024 times (this number can be changed via the `shots` parameter in execute), in approximately half of the cases we get 0 and approximately half we get 1. These are the results we'd expect.\n",
    "\n",
    "Note that the results have the form of a Python dictionary."
   ]
  },
  {
   "cell_type": "markdown",
   "metadata": {},
   "source": [
    "## Running the circuit on the real chip\n",
    "\n",
    "To run a circuit on a real chip, IBM requires that you have an account. Each user has a certain number of credits which enable a limited number of runs per day on the hardware. Log on to your account:\n",
    "\n",
    "https://quantum-computing.ibm.com\n",
    "\n",
    "Log in and you should see your API key in a box on the main page. You can copy your API Key from here.\n",
    "\n",
    "You now need to save that on your computer. You can do by pasting your key into the command box below and then executing that and the following commands.\n",
    "\n"
   ]
  },
  {
   "cell_type": "code",
   "execution_count": null,
   "metadata": {},
   "outputs": [],
   "source": [
    "mykey='PASTE_YOUR_API_KEY_HERE'"
   ]
  },
  {
   "cell_type": "code",
   "execution_count": null,
   "metadata": {},
   "outputs": [],
   "source": [
    "from qiskit import IBMQ\n",
    " \n",
    "IBMQ.save_account(mykey)"
   ]
  },
  {
   "cell_type": "markdown",
   "metadata": {},
   "source": [
    "Now that your key is saved, on your computer, you can access it (and enable IBMQ chip access) with the simple command\":"
   ]
  },
  {
   "cell_type": "code",
   "execution_count": null,
   "metadata": {},
   "outputs": [],
   "source": [
    "IBMQ.load_account()"
   ]
  },
  {
   "cell_type": "markdown",
   "metadata": {},
   "source": [
    "You will need to save your key separately on any computer you use."
   ]
  },
  {
   "cell_type": "markdown",
   "metadata": {},
   "source": [
    "Now we can check the devices available to us. IBMQ uses something called a `provider` to specify which chips and simulations we have access to."
   ]
  },
  {
   "cell_type": "code",
   "execution_count": null,
   "metadata": {},
   "outputs": [],
   "source": [
    "IBMQ.providers()"
   ]
  },
  {
   "cell_type": "markdown",
   "metadata": {},
   "source": [
    "There should be just one provider available to you. You can activate it by creating a `provider` object which we will call simply 'provider'. We can then ask the provider object to tell us which backends are available to us. \n",
    "\n",
    "A backend is either a simulator or a physical chip. If you have played around with IBM Q Experience webpages these backends should be familiar to you."
   ]
  },
  {
   "cell_type": "code",
   "execution_count": null,
   "metadata": {},
   "outputs": [],
   "source": [
    "provider = IBMQ.get_provider(hub='ibm-q')\n",
    "provider.backends()"
   ]
  },
  {
   "cell_type": "markdown",
   "metadata": {},
   "source": [
    "The following script (adapted from the IBMQ tutorial) allows us to select the least busy 5-qubit backend for our computation and save it as the python object `backend`."
   ]
  },
  {
   "cell_type": "code",
   "execution_count": null,
   "metadata": {},
   "outputs": [],
   "source": [
    "from qiskit.providers.ibmq import least_busy\n",
    "\n",
    "small_devices = provider.backends(filters=lambda x: x.configuration().n_qubits == 5\n",
    "                                   and not x.configuration().simulator)\n",
    "backend=least_busy(small_devices)\n",
    "\n",
    "print(backend)"
   ]
  },
  {
   "cell_type": "markdown",
   "metadata": {},
   "source": [
    "For more details on the above example, and on the options available in `provider` see IBM's tutorial here: https://github.com/Qiskit/qiskit-ibmq-provider/blob/master/docs/tutorials/1_the_ibmq_account.ipynb\n",
    "\n",
    "Now the syntax to run our code on the real chip is exactly the same as for the simulator."
   ]
  },
  {
   "cell_type": "code",
   "execution_count": null,
   "metadata": {},
   "outputs": [],
   "source": [
    "job = execute(circuit_new, backend)"
   ]
  },
  {
   "cell_type": "code",
   "execution_count": null,
   "metadata": {},
   "outputs": [],
   "source": [
    "job.status()"
   ]
  },
  {
   "cell_type": "code",
   "execution_count": null,
   "metadata": {},
   "outputs": [],
   "source": [
    "result = job.result()\n",
    "result.get_counts(circuit_new)"
   ]
  },
  {
   "cell_type": "markdown",
   "metadata": {},
   "source": [
    "For more details on running jobs, and in particular using the **job manager** to track jobs which take a while to execute see: \n",
    "\n",
    "https://qiskit.org/documentation/apidoc/ibmq-provider.html\n",
    "\n",
    "and click **Job Manager**.\n"
   ]
  },
  {
   "cell_type": "markdown",
   "metadata": {},
   "source": [
    "## Some useful tips for running jobs\n",
    "\n",
    "### Job ID's\n",
    "During busy periods, it may take some time (can be several hours) for your job to run. In this case, you need a way to check your job's status, and recover its results, perhaps the next day. Also, given the small number of ties you can execute circuits on the chip, the data from every run is sacred. **Job ID's** help you keep track of jobs and recover their results.\n",
    "\n",
    "You can access the Job ID for a job, by using the `.job_id()` method on the job you have executed. E.g.:\n",
    "\n"
   ]
  },
  {
   "cell_type": "code",
   "execution_count": null,
   "metadata": {},
   "outputs": [],
   "source": [
    "myjobid=job.job_id()\n",
    "\n",
    "print('JOB ID: {}'.format(myjobid))  "
   ]
  },
  {
   "cell_type": "markdown",
   "metadata": {},
   "source": [
    "We can use the job ID to retrieve a job object from our backend at a later time:"
   ]
  },
  {
   "cell_type": "code",
   "execution_count": null,
   "metadata": {},
   "outputs": [],
   "source": [
    "job_retrieved=backend.retrieve_job(myjobid)\n",
    "\n",
    "result_retrieved = job_retrieved.result()\n",
    "result_retrieved.get_counts(circuit_new)"
   ]
  },
  {
   "cell_type": "markdown",
   "metadata": {},
   "source": [
    "### Getting help\n",
    "\n",
    "QISKIT documentation can be found here:\n",
    "\n",
    "https://qiskit.org/documentation/\n",
    "\n",
    "It is somewhat incomplete due to the rapid development of QISKIT. If you have a question that the documentation can't answer, I suggest you check the Quantum Computing Stackexchange site, which IBM uses as a main support outlet for QISKIT.\n",
    "\n",
    "https://quantumcomputing.stackexchange.com\n"
   ]
  },
  {
   "cell_type": "code",
   "execution_count": null,
   "metadata": {},
   "outputs": [],
   "source": []
  }
 ],
 "metadata": {
  "kernelspec": {
   "display_name": "Python 3",
   "language": "python",
   "name": "python3"
  },
  "language_info": {
   "codemirror_mode": {
    "name": "ipython",
    "version": 3
   },
   "file_extension": ".py",
   "mimetype": "text/x-python",
   "name": "python",
   "nbconvert_exporter": "python",
   "pygments_lexer": "ipython3",
   "version": "3.7.4"
  }
 },
 "nbformat": 4,
 "nbformat_minor": 2
}
